{
 "cells": [
  {
   "cell_type": "code",
   "execution_count": 2,
   "id": "bbbeca76",
   "metadata": {},
   "outputs": [
    {
     "name": "stderr",
     "output_type": "stream",
     "text": [
      "/Users/anichougule/anaconda3/lib/python3.11/site-packages/transformers/utils/generic.py:260: UserWarning: torch.utils._pytree._register_pytree_node is deprecated. Please use torch.utils._pytree.register_pytree_node instead.\n",
      "  torch.utils._pytree._register_pytree_node(\n"
     ]
    }
   ],
   "source": [
    "import pandas as pd\n",
    "import numpy as np\n",
    "\n",
    "import numpy as np\n",
    "from datetime import datetime\n",
    "from transformers import BertTokenizer, BertModel\n",
    "from sklearn.metrics.pairwise import cosine_similarity"
   ]
  },
  {
   "cell_type": "code",
   "execution_count": 3,
   "id": "16c879a5",
   "metadata": {},
   "outputs": [
    {
     "name": "stderr",
     "output_type": "stream",
     "text": [
      "/var/folders/5r/bp72fbgs5xbg8lj9j_yd05jr0000gn/T/ipykernel_83151/2909789205.py:4: DtypeWarning: Columns (10) have mixed types. Specify dtype option on import or set low_memory=False.\n",
      "  nypd_criminal = pd.read_csv('/Users/anichougule/Masters/Project/Data Warehouse/vizier-520-project-data/NYPD_Criminal.csv')\n"
     ]
    }
   ],
   "source": [
    "chicago_crimes = pd.read_csv('/Users/anichougule/Masters/Project/Data Warehouse/vizier-520-project-data/Chicago_Crimes.csv')\n",
    "nypd_arrest = pd.read_csv('/Users/anichougule/Masters/Project/Data Warehouse/vizier-520-project-data/NYPD_Arrests.csv')\n",
    "nypd_shooting = pd.read_csv('/Users/anichougule/Masters/Project/Data Warehouse/vizier-520-project-data/NYPD_Shooting.csv')\n",
    "nypd_criminal = pd.read_csv('/Users/anichougule/Masters/Project/Data Warehouse/vizier-520-project-data/NYPD_Criminal.csv')\n",
    "iucr_laws = pd.read_csv('/Users/anichougule/Masters/Project/Data Warehouse/vizier-520-project-data/CPD_IUCR.csv')"
   ]
  },
  {
   "cell_type": "code",
   "execution_count": 18,
   "id": "560e74e5",
   "metadata": {},
   "outputs": [
    {
     "name": "stdout",
     "output_type": "stream",
     "text": [
      "7986399 5491533 5430344\n"
     ]
    }
   ],
   "source": [
    "datasets_preview = {\n",
    "    'NYS Shooting': nypd_shooting.head(),\n",
    "    'NYPD Criminal': nypd_criminal.head(),\n",
    "    'NYPD Arrests': nypd_arrest.head(),\n",
    "    'Chicago Crimes': chicago_crimes.head(),\n",
    "    'IUCR Laws': iucr_laws.head()\n",
    "}\n",
    "\n",
    "columns_preview = {\n",
    "    'NYS Shooting': nypd_shooting.columns,\n",
    "    'NYPD Criminal': nypd_criminal.columns,\n",
    "    'NYPD Arrests': nypd_arrest.columns,\n",
    "    'Chicago Crimes': chicago_crimes.columns,\n",
    "    'IUCR Laws': iucr_laws.columns\n",
    "}\n",
    "\n",
    "print(len(chicago_crimes),len(nypd_arrest),len(nypd_criminal))"
   ]
  },
  {
   "cell_type": "code",
   "execution_count": 41,
   "id": "2faa3400",
   "metadata": {},
   "outputs": [
    {
     "data": {
      "text/plain": [
       "{'NYS Shooting': Index(['INCIDENT_KEY', 'OCCUR_DATE', 'OCCUR_TIME', 'BORO', 'LOC_OF_OCCUR_DESC',\n",
       "        'PRECINCT', 'JURISDICTION_CODE', 'LOC_CLASSFCTN_DESC', 'LOCATION_DESC',\n",
       "        'STATISTICAL_MURDER_FLAG', 'PERP_AGE_GROUP', 'PERP_SEX', 'PERP_RACE',\n",
       "        'VIC_AGE_GROUP', 'VIC_SEX', 'VIC_RACE', 'X_COORD_CD', 'Y_COORD_CD',\n",
       "        'Latitude', 'Longitude', 'Lon_Lat'],\n",
       "       dtype='object'),\n",
       " 'NYPD Criminal': Index(['SUMMONS_KEY', 'SUMMONS_DATE', 'OFFENSE_DESCRIPTION',\n",
       "        'LAW_SECTION_NUMBER', 'LAW_DESCRIPTION', 'SUMMONS_CATEGORY_TYPE',\n",
       "        'AGE_GROUP', 'SEX', 'RACE', 'JURISDICTION_CODE', 'BORO',\n",
       "        'PRECINCT_OF_OCCUR', 'X_COORDINATE_CD', 'Y_COORDINATE_CD', 'Latitude',\n",
       "        'Longitude', 'Lon_Lat'],\n",
       "       dtype='object'),\n",
       " 'NYPD Arrests': Index(['ARREST_KEY', 'ARREST_DATE', 'PD_CD', 'PD_DESC', 'KY_CD', 'OFNS_DESC',\n",
       "        'LAW_CODE', 'LAW_CAT_CD', 'ARREST_BORO', 'ARREST_PRECINCT',\n",
       "        'JURISDICTION_CODE', 'AGE_GROUP', 'PERP_SEX', 'PERP_RACE', 'X_COORD_CD',\n",
       "        'Y_COORD_CD', 'Latitude', 'Longitude', 'Lon_Lat'],\n",
       "       dtype='object'),\n",
       " 'Chicago Crimes': Index(['ID', 'Case Number', 'Date', 'Block', 'IUCR', 'Primary Type',\n",
       "        'Description', 'Location Description', 'Arrest', 'Domestic', 'Beat',\n",
       "        'District', 'Ward', 'Community Area', 'FBI Code', 'X Coordinate',\n",
       "        'Y Coordinate', 'Year', 'Updated On', 'Latitude', 'Longitude',\n",
       "        'Location'],\n",
       "       dtype='object'),\n",
       " 'IUCR Laws': Index(['IUCR', 'PRIMARY DESCRIPTION', 'SECONDARY DESCRIPTION', 'INDEX CODE',\n",
       "        'ACTIVE'],\n",
       "       dtype='object')}"
      ]
     },
     "execution_count": 41,
     "metadata": {},
     "output_type": "execute_result"
    }
   ],
   "source": [
    "columns_preview"
   ]
  },
  {
   "cell_type": "code",
   "execution_count": 9,
   "id": "3e9a74a2",
   "metadata": {},
   "outputs": [],
   "source": [
    "chicago_arrest=chicago_crimes[chicago_crimes['Arrest']==True].copy()\n",
    "chicago_criminal=chicago_crimes[chicago_crimes['Arrest']==False].copy()\n"
   ]
  },
  {
   "cell_type": "code",
   "execution_count": 20,
   "id": "f78be5cc",
   "metadata": {},
   "outputs": [],
   "source": [
    "chicago_arrest['Date'] = pd.to_datetime(chicago_arrest['Date'],format='mixed')\n",
    "chicago_criminal['Date'] = pd.to_datetime(chicago_criminal['Date'],format='mixed')\n",
    "chicago_criminal['FBI Code']=chicago_criminal['FBI Code'].astype('str') \n",
    "chicago_arrest['FBI Code']=chicago_arrest['FBI Code'].astype('str')\n",
    "chicago_criminal['IUCR']=chicago_criminal['IUCR'].astype('str') \n",
    "chicago_arrest['IUCR']=chicago_arrest['IUCR'].astype('str')\n",
    "\n"
   ]
  },
  {
   "cell_type": "code",
   "execution_count": 23,
   "id": "e6af9f92",
   "metadata": {},
   "outputs": [],
   "source": [
    "chicago_arrest=chicago_arrest[chicago_arrest['Date']>'01-01-2014']\n",
    "chicago_criminal=chicago_criminal[chicago_criminal['Date']>'01-01-2014']"
   ]
  },
  {
   "cell_type": "code",
   "execution_count": 21,
   "id": "b60ed2e4",
   "metadata": {},
   "outputs": [],
   "source": [
    "#Nypd shooting \n",
    "nypd_shooting['OFNS_Desc']= np.where(nypd_shooting['STATISTICAL_MURDER_FLAG'], 'Shooting and Murdered', 'Shooting and Injured')\n",
    "\n",
    "#Nypd_Arrests\n",
    "nypd_arrest['ARREST_DATE']=pd.to_datetime(nypd_arrest['ARREST_DATE'],format='mixed')\n",
    "\n",
    "#Nypd_Criminal\n",
    "nypd_criminal['SUMMONS_DATE']=pd.to_datetime(nypd_criminal['SUMMONS_DATE'],format='mixed')\n",
    "\n",
    "#iucr_laws\n",
    "iucr_laws['IUCR']=iucr_laws['IUCR'].astype('str')\n",
    "nypd_arrest=nypd_arrest[nypd_arrest['ARREST_DATE']>'01-01-2014']\n",
    "nypd_criminal=nypd_criminal[nypd_criminal['SUMMONS_DATE']>'01-01-2014']"
   ]
  },
  {
   "cell_type": "code",
   "execution_count": 26,
   "id": "2857b9c3",
   "metadata": {},
   "outputs": [
    {
     "name": "stdout",
     "output_type": "stream",
     "text": [
      "489661 2076139 2274367 1424644\n"
     ]
    }
   ],
   "source": [
    "print(len(chicago_arrest),len(chicago_criminal),len(nypd_arrest),len(nypd_criminal))"
   ]
  },
  {
   "cell_type": "code",
   "execution_count": 27,
   "id": "daf3cbd5",
   "metadata": {},
   "outputs": [],
   "source": [
    "def get_bert_embeddings(sentences, tokenizer, model):\n",
    "    inputs = tokenizer(sentences, padding=True, truncation=True, return_tensors=\"pt\", max_length=512)\n",
    "    outputs = model(**inputs)\n",
    "    return outputs.last_hidden_state.mean(dim=1).detach().numpy()  # Mean pooling and convert to numpy array"
   ]
  },
  {
   "cell_type": "code",
   "execution_count": 28,
   "id": "4a2c1f07",
   "metadata": {},
   "outputs": [],
   "source": [
    "# Load pre-trained BERT model and tokenizer\n",
    "tokenizer = BertTokenizer.from_pretrained('bert-base-uncased')\n",
    "model = BertModel.from_pretrained('bert-base-uncased')"
   ]
  },
  {
   "cell_type": "code",
   "execution_count": 29,
   "id": "147306b0",
   "metadata": {},
   "outputs": [],
   "source": [
    "nypd_arrests_descs = nypd_arrest[['PD_DESC', 'OFNS_DESC']].dropna().drop_duplicates()\n",
    "nypd_arrests_combined = nypd_arrests_descs.agg(' '.join, axis=1)\n",
    "# Preprocessing NYPD Criminal descriptions\n",
    "nypd_criminal_descs = nypd_criminal['OFFENSE_DESCRIPTION'].dropna().drop_duplicates()\n",
    "nypd_criminal_combined = nypd_criminal_descs\n",
    "\n",
    "nypd_shooting_descs = nypd_shooting['OFNS_Desc'].dropna().drop_duplicates()\n",
    "nypd_shooting_combined = nypd_shooting_descs\n",
    "\n",
    "iucr_laws_desc = iucr_laws[['IUCR', 'PRIMARY DESCRIPTION', 'SECONDARY DESCRIPTION']].dropna().drop_duplicates()\n",
    "iucr_laws_combined = iucr_laws_desc[['PRIMARY DESCRIPTION', 'SECONDARY DESCRIPTION']].agg(' '.join, axis=1)\n",
    "\n"
   ]
  },
  {
   "cell_type": "code",
   "execution_count": 30,
   "id": "e7191b9e",
   "metadata": {},
   "outputs": [],
   "source": [
    "# Generating BERT embeddings\n",
    "nypd_arrests_embeddings = get_bert_embeddings(nypd_arrests_combined.to_list(), tokenizer, model)\n",
    "nypd_shooting_embeddings = get_bert_embeddings(nypd_shooting_combined.to_list(), tokenizer, model)\n",
    "nypd_criminal_embeddings = get_bert_embeddings(nypd_criminal_combined.to_list(), tokenizer, model)\n",
    "iucr_laws_embeddings = get_bert_embeddings(iucr_laws_combined.to_list(), tokenizer, model)\n",
    "\n",
    "# Compute cosine similarities\n",
    "cosine_similarities14 = cosine_similarity(nypd_arrests_embeddings, iucr_laws_embeddings)\n",
    "cosine_similarities24 = cosine_similarity(nypd_shooting_embeddings, iucr_laws_embeddings)\n",
    "cosine_similarities34 = cosine_similarity(nypd_criminal_embeddings, iucr_laws_embeddings)\n",
    "\n",
    "# For each NYPD Law, find the most similar IUCR Law\n",
    "most_similar_laws14 = cosine_similarities14.argmax(axis=1)\n",
    "most_similar_laws24 = cosine_similarities24.argmax(axis=1)\n",
    "most_similar_laws34 = cosine_similarities34.argmax(axis=1)\n",
    "\n"
   ]
  },
  {
   "cell_type": "code",
   "execution_count": 31,
   "id": "4118e23a",
   "metadata": {},
   "outputs": [],
   "source": [
    "mapping_df14 = pd.DataFrame({\n",
    "    'NYPD Law Description': nypd_arrests_combined.reset_index(drop=True),\n",
    "    'Most Similar IUCR Law Index': most_similar_laws14,\n",
    "    'Similarity Score': [cosine_similarities14[i, most_similar_laws14[i]] for i in range(len(most_similar_laws14))]\n",
    "})\n",
    "mapping_df24 = pd.DataFrame({\n",
    "    'NYPD Law Description': nypd_shooting_combined.reset_index(drop=True),\n",
    "    'Most Similar IUCR Law Index': most_similar_laws24,\n",
    "    'Similarity Score': [cosine_similarities24[i, most_similar_laws24[i]] for i in range(len(most_similar_laws24))]\n",
    "})\n",
    "mapping_df34 = pd.DataFrame({\n",
    "    'NYPD Law Description': nypd_criminal_combined.reset_index(drop=True),\n",
    "    'Most Similar IUCR Law Index': most_similar_laws34,\n",
    "    'Similarity Score': [cosine_similarities34[i, most_similar_laws34[i]] for i in range(len(most_similar_laws34))]\n",
    "})\n"
   ]
  },
  {
   "cell_type": "code",
   "execution_count": 32,
   "id": "8829e627",
   "metadata": {},
   "outputs": [],
   "source": [
    "# Add descriptions and IUCR codes of the most similar IUCR laws\n",
    "mapping_df14['IUCR Law Primary Type'] = mapping_df14['Most Similar IUCR Law Index'].apply(\n",
    "    lambda x: iucr_laws_desc.iloc[x, 1]  if x < len(iucr_laws_desc) else None\n",
    ")\n",
    "mapping_df14['IUCR Law Description'] = mapping_df14['Most Similar IUCR Law Index'].apply(\n",
    "    lambda x:  iucr_laws_desc.iloc[x, 2] if x < len(iucr_laws_desc) else None\n",
    ")\n",
    "mapping_df14['IUCR Code'] = mapping_df14['Most Similar IUCR Law Index'].apply(\n",
    "    lambda x: iucr_laws_desc.iloc[x, 0] if x < len(iucr_laws_desc) else None\n",
    ")"
   ]
  },
  {
   "cell_type": "code",
   "execution_count": 33,
   "id": "33d1acda",
   "metadata": {},
   "outputs": [],
   "source": [
    "##shooting IUCR mapping \n",
    "\n",
    "mapping_df24['IUCR Law Primary Type'] = mapping_df24['Most Similar IUCR Law Index'].apply(\n",
    "    lambda x: iucr_laws_desc.iloc[x, 1]  if x < len(iucr_laws_desc) else None\n",
    ")\n",
    "mapping_df24['IUCR Law Description'] = mapping_df24['Most Similar IUCR Law Index'].apply(\n",
    "    lambda x:  iucr_laws_desc.iloc[x, 2] if x < len(iucr_laws_desc) else None\n",
    ")\n",
    "mapping_df24['IUCR Code'] = mapping_df24['Most Similar IUCR Law Index'].apply(\n",
    "    lambda x: iucr_laws_desc.iloc[x, 0] if x < len(iucr_laws_desc) else None\n",
    ")\n",
    "\n",
    "#### criminal IUCR mapping\n",
    "mapping_df34['IUCR Law Primary Type'] = mapping_df34['Most Similar IUCR Law Index'].apply(\n",
    "    lambda x: iucr_laws_desc.iloc[x, 1]  if x < len(iucr_laws_desc) else None\n",
    ")\n",
    "mapping_df34['IUCR Law Description'] = mapping_df34['Most Similar IUCR Law Index'].apply(\n",
    "    lambda x:  iucr_laws_desc.iloc[x, 2] if x < len(iucr_laws_desc) else None\n",
    ")\n",
    "mapping_df34['IUCR Code'] = mapping_df34['Most Similar IUCR Law Index'].apply(\n",
    "    lambda x: iucr_laws_desc.iloc[x, 0] if x < len(iucr_laws_desc) else None\n",
    ")\n"
   ]
  },
  {
   "cell_type": "code",
   "execution_count": 34,
   "id": "cbcb4728",
   "metadata": {},
   "outputs": [],
   "source": [
    "####### IUCR to FBI code Mapping #######\n",
    "\n",
    "iucr_to_fbi_mapping = chicago_criminal[['IUCR', 'FBI Code']].drop_duplicates()\n",
    "mapping_df14['IUCR Code']=mapping_df14['IUCR Code'].astype('str')\n",
    "mapping_df24['IUCR Code']=mapping_df24['IUCR Code'].astype('str')\n",
    "mapping_df34['IUCR Code']=mapping_df34['IUCR Code'].astype('str')\n",
    "merged_nypd_arrests_with_fbi = pd.merge(mapping_df14, iucr_to_fbi_mapping, left_on='IUCR Code', right_on='IUCR', how='left').drop('IUCR', axis=1)\n",
    "merged_nypd_shooting_with_fbi = pd.merge(mapping_df24, iucr_to_fbi_mapping, left_on='IUCR Code', right_on='IUCR', how='left').drop('IUCR', axis=1)\n",
    "merged_nypd_criminal_with_fbi = pd.merge(mapping_df34, iucr_to_fbi_mapping, left_on='IUCR Code', right_on='IUCR', how='left').drop('IUCR', axis=1)\n"
   ]
  },
  {
   "cell_type": "code",
   "execution_count": 35,
   "id": "1d573687",
   "metadata": {},
   "outputs": [],
   "source": [
    "nypd_shooting_full = pd.merge(nypd_shooting, \n",
    "                              merged_nypd_shooting_with_fbi[['NYPD Law Description', 'IUCR Code', 'FBI Code','IUCR Law Primary Type','IUCR Law Description']], \n",
    "                              left_on='OFNS_Desc', \n",
    "                              right_on='NYPD Law Description',\n",
    "                              how='left')\n",
    "nypd_criminal_full = pd.merge(nypd_criminal, \n",
    "                              merged_nypd_criminal_with_fbi[['NYPD Law Description', 'IUCR Code', 'FBI Code','IUCR Law Primary Type','IUCR Law Description']], \n",
    "                              left_on='OFFENSE_DESCRIPTION', \n",
    "                              right_on='NYPD Law Description',\n",
    "                              how='left')\n",
    "nypd_arrest['Combined Description'] = nypd_arrest['PD_DESC']+' '+nypd_arrest['OFNS_DESC']\n",
    "nypd_arrests_full = pd.merge(nypd_arrest, \n",
    "                             merged_nypd_arrests_with_fbi[['NYPD Law Description', 'IUCR Code', 'FBI Code','IUCR Law Primary Type','IUCR Law Description']], \n",
    "                             left_on=['Combined Description'], \n",
    "                             right_on='NYPD Law Description',\n",
    "                             how='left')\n",
    "chicago_criminal_full = pd.merge(chicago_criminal, \n",
    "                             iucr_laws[['IUCR','PRIMARY DESCRIPTION','SECONDARY DESCRIPTION']], \n",
    "                             left_on=['IUCR','Primary Type'], \n",
    "                             right_on=['IUCR','PRIMARY DESCRIPTION'],\n",
    "                             how='left')\n",
    "chicago_arrest_full = pd.merge(chicago_arrest, \n",
    "                             iucr_laws[['IUCR','PRIMARY DESCRIPTION','SECONDARY DESCRIPTION']], \n",
    "                             left_on=['IUCR','Primary Type'], \n",
    "                             right_on=['IUCR','PRIMARY DESCRIPTION'],\n",
    "                             how='left')\n",
    "\n"
   ]
  },
  {
   "cell_type": "code",
   "execution_count": 36,
   "id": "fc7cd9b2",
   "metadata": {},
   "outputs": [],
   "source": [
    "chicago_arrest_full['City']='Chicago'\n",
    "chicago_criminal_full['City']='Chicago'\n",
    "nypd_arrests_full['City']='New York'\n",
    "nypd_criminal_full['City']='New York'\n",
    "nypd_shooting_full['City']='New York'"
   ]
  },
  {
   "cell_type": "code",
   "execution_count": 37,
   "id": "2a428585",
   "metadata": {},
   "outputs": [],
   "source": [
    "chicago_arrest_full=chicago_arrest_full[[\"Date\", \"Description\", \"PRIMARY DESCRIPTION\", \"SECONDARY DESCRIPTION\", \"FBI Code\", \"IUCR\", \"Latitude\", \"Longitude\", \"City\"]].rename(columns={\n",
    "    'Date': 'Arrest_Date',\n",
    "    'Description': 'OFFENSE_DESCRIPTION',\n",
    "    'PRIMARY DESCRIPTION': 'Primary_Offense_Description',\n",
    "    'SECONDARY DESCRIPTION': 'Second_Offense_Description',\n",
    "    \"IUCR\":\"IUCR_Code\"\n",
    "}).drop_duplicates()\n",
    "\n",
    "nypd_arrests_full=nypd_arrests_full[[\"ARREST_DATE\", \"OFNS_DESC\", \"IUCR Law Primary Type\", \"IUCR Law Description\", \"FBI Code\", \"IUCR Code\", \"Latitude\", \"Longitude\", \"City\"]].rename(columns={\n",
    "    'ARREST_DATE': 'Arrest_Date',\n",
    "    'OFNS_DESC': 'OFFENSE_DESCRIPTION',\n",
    "    'IUCR Law Primary Type': 'Primary_Offense_Description',\n",
    "    'IUCR Law Description': 'Second_Offense_Description',\n",
    "    'IUCR Code':'IUCR_Code'\n",
    "}).drop_duplicates()\n",
    "\n",
    "nypd_shooting_full=nypd_shooting_full[[\"OCCUR_DATE\", \"OFNS_Desc\", \"IUCR Law Primary Type\", \"IUCR Law Description\", \"FBI Code\", \"IUCR Code\", \"Latitude\", \"Longitude\", \"City\"]].rename(columns={\n",
    "    'OCCUR_DATE': 'Arrest_Date',\n",
    "    'OFNS_Desc': 'OFFENSE_DESCRIPTION',\n",
    "    'IUCR Law Primary Type': 'Primary_Offense_Description',\n",
    "    'IUCR Law Description': 'Second_Offense_Description',\n",
    "    'IUCR Code':'IUCR_Code'\n",
    "    \n",
    "}).drop_duplicates()\n"
   ]
  },
  {
   "cell_type": "code",
   "execution_count": 38,
   "id": "07d2e48d",
   "metadata": {},
   "outputs": [],
   "source": [
    "\n",
    "chicago_criminal_full=chicago_criminal_full[[\"Date\", \"Description\", \"PRIMARY DESCRIPTION\", \"SECONDARY DESCRIPTION\", \"FBI Code\", \"IUCR\", \"Latitude\", \"Longitude\", \"City\"]].rename(columns={\n",
    "    'Date': 'Crime_Date',\n",
    "    'Description': 'OFFENSE_DESCRIPTION',\n",
    "    'PRIMARY DESCRIPTION': 'Primary_Offense_Description',\n",
    "    'SECONDARY DESCRIPTION': 'Second_Offense_Description',\n",
    "    \"IUCR\":\"IUCR_Code\"\n",
    "}).drop_duplicates()\n",
    "\n",
    "nypd_criminal_full=nypd_criminal_full[[\"SUMMONS_DATE\", \"OFFENSE_DESCRIPTION\", \"IUCR Law Primary Type\", \"IUCR Law Description\", \"FBI Code\", \"IUCR Code\", \"Latitude\", \"Longitude\", \"City\"]].rename(columns={\n",
    "    'SUMMONS_DATE': 'Crime_Date',\n",
    "    'OFFENSE_DESCRIPTION': 'OFFENSE_DESCRIPTION',\n",
    "    'IUCR Law Primary Type': 'Primary_Offense_Description',\n",
    "    'IUCR Law Description': 'Second_Offense_Description',\n",
    "    'IUCR Code':'IUCR_Code' \n",
    "}).drop_duplicates()"
   ]
  },
  {
   "cell_type": "code",
   "execution_count": 43,
   "id": "a4991bdb",
   "metadata": {},
   "outputs": [
    {
     "name": "stdout",
     "output_type": "stream",
     "text": [
      "2648118\n",
      "Arrest_Date                         0\n",
      "OFFENSE_DESCRIPTION              4099\n",
      "Primary_Offense_Description    200412\n",
      "Second_Offense_Description     200412\n",
      "FBI Code                       698001\n",
      "IUCR_Code                        4099\n",
      "Latitude                         6932\n",
      "Longitude                        6932\n",
      "City                                0\n",
      "dtype: int64\n",
      "3142477\n",
      "Crime_Date                           0\n",
      "OFFENSE_DESCRIPTION                 24\n",
      "Primary_Offense_Description    1324139\n",
      "Second_Offense_Description     1324139\n",
      "FBI Code                        434647\n",
      "IUCR_Code                           24\n",
      "Latitude                         28704\n",
      "Longitude                        28704\n",
      "City                                 0\n",
      "dtype: int64\n"
     ]
    }
   ],
   "source": [
    "master_arrest=pd.concat([chicago_arrest_full,nypd_arrests_full,nypd_shooting_full])\n",
    "master_crime=pd.concat([chicago_criminal_full,nypd_criminal_full])\n",
    "\n",
    "# Printing null counts and the dataframes\n",
    "# print(nypd_arrest.isnull().sum())\n",
    "# print(nypd_criminal.isnull().sum())\n",
    "# print(chicago_crimes.isnull().sum())\n",
    "print(len(master_arrest))\n",
    "print(master_arrest.isnull().sum())\n",
    "print(len(master_crime))\n",
    "print(master_crime.isnull().sum())"
   ]
  },
  {
   "cell_type": "code",
   "execution_count": null,
   "id": "ffa04437",
   "metadata": {},
   "outputs": [],
   "source": [
    "## writing down the result into two Dataset\n",
    "master_arrest['Arrest_Date']=master_arrest['Arrest_Date'].astype('str')\n",
    "master_crime['Crime_Date']=master_crime['Crime_Date'].astype('str')\n",
    "master_arrest.to_csv('/Users/anichougule/Masters/Project/Data Warehouse/vizier-520-project-data/Master_Arrest.csv')\n",
    "master_crime.to_csv('/Users/anichougule/Masters/Project/Data Warehouse/vizier-520-project-data/Master_Crime.csv')"
   ]
  }
 ],
 "metadata": {
  "kernelspec": {
   "display_name": "Python 3 (ipykernel)",
   "language": "python",
   "name": "python3"
  },
  "language_info": {
   "codemirror_mode": {
    "name": "ipython",
    "version": 3
   },
   "file_extension": ".py",
   "mimetype": "text/x-python",
   "name": "python",
   "nbconvert_exporter": "python",
   "pygments_lexer": "ipython3",
   "version": "3.11.5"
  }
 },
 "nbformat": 4,
 "nbformat_minor": 5
}
